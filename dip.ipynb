{
 "cells": [
  {
   "cell_type": "code",
   "execution_count": null,
   "id": "173244b3",
   "metadata": {},
   "outputs": [],
   "source": [
    "import cv2\n",
    "bw=cv2.imread(\"you.jpeg\",1)\n",
    "cv2.imshow('212220230029',bw)\n",
    "cv2.waitKey(0)\n"
   ]
  },
  {
   "cell_type": "code",
   "execution_count": null,
   "id": "3b80bebd",
   "metadata": {},
   "outputs": [],
   "source": [
    "gray=cv2.imread(\"you.jpeg\",0)\n",
    "cv2.imshow(\"greyimage\",gray)\n",
    "cv2.waitKey(0)"
   ]
  },
  {
   "cell_type": "code",
   "execution_count": null,
   "id": "10a26174",
   "metadata": {},
   "outputs": [],
   "source": [
    "cv2.imwrite(\"logh.jpg\",bw)"
   ]
  },
  {
   "cell_type": "code",
   "execution_count": null,
   "id": "ae5bdcb1",
   "metadata": {},
   "outputs": [],
   "source": [
    "print(bw.shape)"
   ]
  },
  {
   "cell_type": "code",
   "execution_count": null,
   "id": "68acd0b3",
   "metadata": {},
   "outputs": [],
   "source": [
    "import random\n",
    "for i in range(100):\n",
    "    for j in range(bw.shape[1]):\n",
    "        bw[i][j]=[random.randint(0,255),random.randint(0,255),random.randint(0,255)]\n",
    "cv2.imshow('accessing row and column',bw)\n",
    "cv2.waitKey(0)"
   ]
  },
  {
   "cell_type": "code",
   "execution_count": null,
   "id": "a355a56a",
   "metadata": {},
   "outputs": [],
   "source": [
    "bw2=cv2.imread(\"you.jpeg\",1)\n",
    "tag=bw2[40:50,40:50]\n",
    "bw2[15:10,15:10]=tag\n",
    "cv2.imshow(\"cutting portion\",bw2)\n",
    "cv2.waitKey(0)"
   ]
  },
  {
   "cell_type": "code",
   "execution_count": null,
   "id": "96673474",
   "metadata": {},
   "outputs": [],
   "source": []
  },
  {
   "cell_type": "code",
   "execution_count": null,
   "id": "e0be5c3e",
   "metadata": {},
   "outputs": [],
   "source": []
  }
 ],
 "metadata": {
  "kernelspec": {
   "display_name": "Python 3",
   "language": "python",
   "name": "python3"
  },
  "language_info": {
   "codemirror_mode": {
    "name": "ipython",
    "version": 3
   },
   "file_extension": ".py",
   "mimetype": "text/x-python",
   "name": "python",
   "nbconvert_exporter": "python",
   "pygments_lexer": "ipython3",
   "version": "3.8.8"
  }
 },
 "nbformat": 4,
 "nbformat_minor": 5
}
